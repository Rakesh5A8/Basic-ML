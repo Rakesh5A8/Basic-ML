{
  "nbformat": 4,
  "nbformat_minor": 0,
  "metadata": {
    "colab": {
      "name": "My First Notebook.ipynb",
      "provenance": [],
      "authorship_tag": "ABX9TyOkDdU3DPdN5DCJozFODSws",
      "include_colab_link": true
    },
    "kernelspec": {
      "name": "python3",
      "display_name": "Python 3"
    },
    "language_info": {
      "name": "python"
    }
  },
  "cells": [
    {
      "cell_type": "markdown",
      "metadata": {
        "id": "view-in-github",
        "colab_type": "text"
      },
      "source": [
        "<a href=\"https://colab.research.google.com/github/Rakesh5A8/Basic-ML/blob/main/My_First_Notebook.ipynb\" target=\"_parent\"><img src=\"https://colab.research.google.com/assets/colab-badge.svg\" alt=\"Open In Colab\"/></a>"
      ]
    },
    {
      "cell_type": "markdown",
      "metadata": {
        "id": "oj6u4Q3wiku8"
      },
      "source": [
        " Python program for finding Even or Odd:"
      ]
    },
    {
      "cell_type": "code",
      "metadata": {
        "id": "Q48O-7Jck4_e"
      },
      "source": [
        "N=int(input())\n",
        "if (N%2==0):\n",
        "   print(\"Even\")\n",
        "else:\n",
        "   print (\"Odd\")"
      ],
      "execution_count": null,
      "outputs": []
    },
    {
      "cell_type": "markdown",
      "metadata": {
        "id": "ahrDaRDXkrmj"
      },
      "source": [
        " Python program for finding maximum of two numbers:"
      ]
    },
    {
      "cell_type": "code",
      "metadata": {
        "id": "__U04zVzig4J"
      },
      "source": [
        "a=int(input(\"enter a:\")) \n",
        "b=int(input(\"enter b:\"))\n",
        "if (a>b):\n",
        "   print(\"max is a\")\n",
        "else:\n",
        "   print(\"max is b\")"
      ],
      "execution_count": null,
      "outputs": []
    },
    {
      "cell_type": "markdown",
      "metadata": {
        "id": "5GK1ODNfli6B"
      },
      "source": [
        "Python program for finding leap year or not:"
      ]
    },
    {
      "cell_type": "code",
      "metadata": {
        "id": "bCDhLuTDlyH0"
      },
      "source": [
        "y=int(input(\"enter a number:\")) \n",
        "if (y%4==0 and y%100!=0) or (y%400==0):\n",
        "   print(\"leap year\") \n",
        "else: \n",
        "   print(\"non leap year\")"
      ],
      "execution_count": null,
      "outputs": []
    }
  ]
}